{
 "cells": [
  {
   "cell_type": "code",
   "execution_count": 1,
   "metadata": {},
   "outputs": [],
   "source": [
    "import pandas as pd\n",
    "import matplotlib.pyplot as plt\n",
    "import seaborn as sns\n",
    "from sklearn.model_selection import train_test_split\n",
    "import numpy as np"
   ]
  },
  {
   "cell_type": "code",
   "execution_count": 2,
   "metadata": {},
   "outputs": [],
   "source": [
    "games = pd.read_csv(\"games.csv\")\n"
   ]
  },
  {
   "cell_type": "code",
   "execution_count": null,
   "metadata": {},
   "outputs": [],
   "source": []
  },
  {
   "cell_type": "code",
   "execution_count": 3,
   "metadata": {},
   "outputs": [
    {
     "name": "stdout",
     "output_type": "stream",
     "text": [
      "Index(['id', 'type', 'name', 'yearpublished', 'minplayers', 'maxplayers',\n",
      "       'playingtime', 'minplaytime', 'maxplaytime', 'minage', 'users_rated',\n",
      "       'average_rating', 'bayes_average_rating', 'total_owners',\n",
      "       'total_traders', 'total_wanters', 'total_wishers', 'total_comments',\n",
      "       'total_weights', 'average_weight'],\n",
      "      dtype='object')\n",
      "(81312, 20)\n"
     ]
    }
   ],
   "source": [
    "\n",
    "print(games.columns)\n",
    "print(games.shape)"
   ]
  },
  {
   "cell_type": "code",
   "execution_count": 4,
   "metadata": {},
   "outputs": [
    {
     "data": {
      "image/png": "[encoded data removed]",
      "text/plain": [
       "<Figure size 432x288 with 1 Axes>"
      ]
     },
     "metadata": {
      "needs_background": "light"
     },
     "output_type": "display_data"
    },
    {
     "data": {
      "text/plain": [
       "'Notes\\n\\n - around 25000 games with 0 rating\\n - 15000 games with rating as 7\\n - equivalent number of games for rating with 5 or 8\\n - most games fit into the category of ratings between 5-8\\n - around 2500 games with ratings 9 and above\\n\\n'"
      ]
     },
     "execution_count": 4,
     "metadata": {},
     "output_type": "execute_result"
    }
   ],
   "source": [
    "plt.hist(games[\"average_rating\"])\n",
    "plt.show()\n",
    "\n",
    "\"\"\"Notes\n",
    "\n",
    " - around 25000 games with 0 rating\n",
    " - 15000 games with rating as 7\n",
    " - equivalent number of games for rating with 5 or 8\n",
    " - most games fit into the category of ratings between 5-8\n",
    " - around 2500 games with ratings 9 and above\n",
    "\n",
    "\"\"\""
   ]
  },
  {
   "cell_type": "code",
   "execution_count": 5,
   "metadata": {},
   "outputs": [
    {
     "name": "stdout",
     "output_type": "stream",
     "text": [
      "id                             318\n",
      "type                     boardgame\n",
      "name                    Looney Leo\n",
      "yearpublished                    0\n",
      "minplayers                       0\n",
      "maxplayers                       0\n",
      "playingtime                      0\n",
      "minplaytime                      0\n",
      "maxplaytime                      0\n",
      "minage                           0\n",
      "users_rated                      0\n",
      "average_rating                   0\n",
      "bayes_average_rating             0\n",
      "total_owners                     0\n",
      "total_traders                    0\n",
      "total_wanters                    0\n",
      "total_wishers                    1\n",
      "total_comments                   0\n",
      "total_weights                    0\n",
      "average_weight                   0\n",
      "Name: 13048, dtype: object\n",
      "id                                1369\n",
      "type                         boardgame\n",
      "name                    Earthdefenders\n",
      "yearpublished                     2001\n",
      "minplayers                           1\n",
      "maxplayers                           1\n",
      "playingtime                         10\n",
      "minplaytime                         10\n",
      "maxplaytime                         10\n",
      "minage                              10\n",
      "users_rated                          0\n",
      "average_rating                       0\n",
      "bayes_average_rating                 0\n",
      "total_owners                         0\n",
      "total_traders                        0\n",
      "total_wanters                        0\n",
      "total_wishers                        1\n",
      "total_comments                       0\n",
      "total_weights                        0\n",
      "average_weight                       0\n",
      "Name: 13218, dtype: object\n"
     ]
    }
   ],
   "source": [
    "print(games[games[\"average_rating\"]==0].iloc[0])\n",
    "print(games[games[\"average_rating\"]==0].iloc[10])\n",
    "# games with users_rated=0, have ratings =0"
   ]
  },
  {
   "cell_type": "code",
   "execution_count": 6,
   "metadata": {},
   "outputs": [
    {
     "name": "stdout",
     "output_type": "stream",
     "text": [
      "id                                  12333\n",
      "type                            boardgame\n",
      "name                    Twilight Struggle\n",
      "yearpublished                        2005\n",
      "minplayers                              2\n",
      "maxplayers                              2\n",
      "playingtime                           180\n",
      "minplaytime                           180\n",
      "maxplaytime                           180\n",
      "minage                                 13\n",
      "users_rated                         20113\n",
      "average_rating                    8.33774\n",
      "bayes_average_rating              8.22186\n",
      "total_owners                        26647\n",
      "total_traders                         372\n",
      "total_wanters                        1219\n",
      "total_wishers                        5865\n",
      "total_comments                       5347\n",
      "total_weights                        2562\n",
      "average_weight                     3.4785\n",
      "Name: 0, dtype: object\n"
     ]
    }
   ],
   "source": [
    "print(games[games[\"average_rating\"]>0].iloc[0])"
   ]
  },
  {
   "cell_type": "code",
   "execution_count": 7,
   "metadata": {},
   "outputs": [],
   "source": [
    "games = games[games[\"users_rated\"]>0]\n",
    "games = games.dropna(axis=0)"
   ]
  },
  {
   "cell_type": "code",
   "execution_count": 8,
   "metadata": {},
   "outputs": [
    {
     "data": {
      "image/png": "[encoded data removed]",
      "text/plain": [
       "<Figure size 432x288 with 1 Axes>"
      ]
     },
     "metadata": {
      "needs_background": "light"
     },
     "output_type": "display_data"
    }
   ],
   "source": [
    "plt.hist(games[\"average_rating\"])\n",
    "plt.show()"
   ]
  },
  {
   "cell_type": "code",
   "execution_count": 30,
   "metadata": {},
   "outputs": [
    {
     "data": {
      "image/png": "[encoded data removed]",
      "text/plain": [
       "<Figure size 864x648 with 2 Axes>"
      ]
     },
     "metadata": {
      "needs_background": "light"
     },
     "output_type": "display_data"
    },
    {
     "data": {
      "text/plain": [
       "'\\nNotes:\\n\\n1) strongest correlation for average_rating = bayes_average_rating, but thats from itself so no point lol\\n2) next strongest is with average weight\\n3) no extremely strong linear corelation with any\\n\\n'"
      ]
     },
     "execution_count": 30,
     "metadata": {},
     "output_type": "execute_result"
    }
   ],
   "source": [
    "corrmat = games.corr()\n",
    "fig = plt.figure(figsize =(12,9))\n",
    "sns.heatmap(corrmat, vmax =0.9, square = True)\n",
    "plt.show()\n",
    "\"\"\"\n",
    "Notes:\n",
    "\n",
    "1) strongest correlation for average_rating = bayes_average_rating, but thats from itself so no point lol\n",
    "2) next strongest is with average weight\n",
    "3) no extremely strong linear corelation with any\n",
    "\n",
    "\"\"\""
   ]
  },
  {
   "cell_type": "code",
   "execution_count": 10,
   "metadata": {},
   "outputs": [],
   "source": [
    "col = games.columns.tolist()\n",
    "col = [c for c in col if c not in [\"bayes_average_rating\",\"average_rating\",\"type\",\"name\",\"id\"]]\n",
    "target = \"average_rating\""
   ]
  },
  {
   "cell_type": "code",
   "execution_count": 11,
   "metadata": {},
   "outputs": [
    {
     "name": "stdout",
     "output_type": "stream",
     "text": [
      "(45515, 20) (11379, 20)\n"
     ]
    }
   ],
   "source": [
    "train = games.sample(frac =0.8, random_state=1)\n",
    "test  = games.loc[~games.index.isin(train.index)]\n",
    "print(train.shape,test.shape)"
   ]
  },
  {
   "cell_type": "code",
   "execution_count": 14,
   "metadata": {},
   "outputs": [
    {
     "data": {
      "text/plain": [
       "LinearRegression(copy_X=True, fit_intercept=True, n_jobs=None,\n",
       "         normalize=False)"
      ]
     },
     "execution_count": 14,
     "metadata": {},
     "output_type": "execute_result"
    }
   ],
   "source": [
    "from sklearn.linear_model import LinearRegression\n",
    "from sklearn.metrics import mean_squared_error\n",
    "\n",
    "LR = LinearRegression()\n",
    "\n",
    "LR.fit(train[col],train[target])"
   ]
  },
  {
   "cell_type": "code",
   "execution_count": 15,
   "metadata": {},
   "outputs": [],
   "source": [
    "pred = LR.predict(test[col])"
   ]
  },
  {
   "cell_type": "code",
   "execution_count": 16,
   "metadata": {},
   "outputs": [
    {
     "data": {
      "text/plain": [
       "2.078819032629326"
      ]
     },
     "execution_count": 16,
     "metadata": {},
     "output_type": "execute_result"
    }
   ],
   "source": [
    "mean_squared_error(pred,test[target])"
   ]
  },
  {
   "cell_type": "code",
   "execution_count": 18,
   "metadata": {},
   "outputs": [
    {
     "data": {
      "text/plain": [
       "RandomForestRegressor(bootstrap=True, criterion='mse', max_depth=None,\n",
       "           max_features='auto', max_leaf_nodes=None,\n",
       "           min_impurity_decrease=0.0, min_impurity_split=None,\n",
       "           min_samples_leaf=10, min_samples_split=2,\n",
       "           min_weight_fraction_leaf=0.0, n_estimators=100, n_jobs=None,\n",
       "           oob_score=False, random_state=1, verbose=0, warm_start=False)"
      ]
     },
     "execution_count": 18,
     "metadata": {},
     "output_type": "execute_result"
    }
   ],
   "source": [
    "from sklearn.ensemble import RandomForestRegressor\n",
    "\n",
    "rf = RandomForestRegressor(n_estimators=100, min_samples_leaf=10, random_state=1)\n",
    "\n",
    "rf.fit(train[col],train[target])"
   ]
  },
  {
   "cell_type": "code",
   "execution_count": 19,
   "metadata": {},
   "outputs": [],
   "source": [
    "predrf = rf.predict(test[col])"
   ]
  },
  {
   "cell_type": "code",
   "execution_count": 23,
   "metadata": {},
   "outputs": [
    {
     "data": {
      "text/plain": [
       "1.4458560046071653"
      ]
     },
     "execution_count": 23,
     "metadata": {},
     "output_type": "execute_result"
    }
   ],
   "source": [
    "mean_squared_error(predrf,test[target])"
   ]
  },
  {
   "cell_type": "code",
   "execution_count": 29,
   "metadata": {},
   "outputs": [
    {
     "name": "stdout",
     "output_type": "stream",
     "text": [
      "[8.12061283] [7.91373581] 8.07933\n"
     ]
    }
   ],
   "source": [
    "rating_LR = LR.predict(test[col].iloc[0].values.reshape(1,-1))\n",
    "rating_rf = rf.predict(test[col].iloc[0].values.reshape(1,-1))\n",
    "print(rating_LR,rating_rf,test[target].iloc[0])"
   ]
  },
  {
   "cell_type": "code",
   "execution_count": null,
   "metadata": {},
   "outputs": [],
   "source": []
  }
 ],
 "metadata": {
  "kernelspec": {
   "display_name": "Python 3",
   "language": "python",
   "name": "python3"
  },
  "language_info": {
   "codemirror_mode": {
    "name": "ipython",
    "version": 3
   },
   "file_extension": ".py",
   "mimetype": "text/x-python",
   "name": "python",
   "nbconvert_exporter": "python",
   "pygments_lexer": "ipython3",
   "version": "3.7.1"
  }
 },
 "nbformat": 4,
 "nbformat_minor": 2
}
